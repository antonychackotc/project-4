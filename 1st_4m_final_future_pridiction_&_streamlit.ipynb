{
  "nbformat": 4,
  "nbformat_minor": 0,
  "metadata": {
    "colab": {
      "provenance": [],
      "authorship_tag": "ABX9TyNwkMZLtNo33fiWpYWVMQY5",
      "include_colab_link": true
    },
    "kernelspec": {
      "name": "python3",
      "display_name": "Python 3"
    },
    "language_info": {
      "name": "python"
    }
  },
  "cells": [
    {
      "cell_type": "markdown",
      "metadata": {
        "id": "view-in-github",
        "colab_type": "text"
      },
      "source": [
        "<a href=\"https://colab.research.google.com/github/antonychackotc/project-4/blob/main/1st_4m_final_future_pridiction_%26_streamlit.ipynb\" target=\"_parent\"><img src=\"https://colab.research.google.com/assets/colab-badge.svg\" alt=\"Open In Colab\"/></a>"
      ]
    },
    {
      "cell_type": "markdown",
      "source": [
        "# **Final Future Prediction**"
      ],
      "metadata": {
        "id": "TUVgPJlGe1hF"
      }
    },
    {
      "cell_type": "code",
      "execution_count": 10,
      "metadata": {
        "id": "DDQAWv98di1D",
        "colab": {
          "base_uri": "https://localhost:8080/"
        },
        "outputId": "858b562e-34e9-42e3-c8a3-d49214227ad9"
      },
      "outputs": [
        {
          "output_type": "stream",
          "name": "stdout",
          "text": [
            "Predicted Output: [1] The employee is likely to leave (Attrition: Yes).\n"
          ]
        }
      ],
      "source": [
        "import pandas as pd\n",
        "import numpy as np\n",
        "import joblib\n",
        "\n",
        "# Load saved transformations & model\n",
        "log_transformer_total = joblib.load(\"log_transformer_TotalWorkingYears.pkl\")\n",
        "log_transformer_year = joblib.load(\"log_transformer_YearsAtCompany.pkl\")\n",
        "label_encoders = joblib.load(\"label_encoders.pkl\")\n",
        "ohe_columns = joblib.load(\"ohe_columns.pkl\")\n",
        "freq_encoding_map_job = joblib.load(\"jobrole_freq_encoding.pkl\")\n",
        "freq_encoding_map_edu = joblib.load(\"EducationField_freq_encoding.pkl\")\n",
        "\n",
        "# Load trained Random Forest model\n",
        "loaded_model = joblib.load(\"random_forest_best_1st.pkl\")\n",
        "\n",
        "# Function to categorize tenure\n",
        "def tenure_category(years):\n",
        "    if years < 2:\n",
        "        return 'New'\n",
        "    elif years < 5:\n",
        "        return 'Intermediate'\n",
        "    elif years < 10:\n",
        "        return 'Experienced'\n",
        "    else:\n",
        "        return 'Veteran'\n",
        "\n",
        "# ✅ Example new input data\n",
        "new_data = pd.DataFrame({\n",
        "    'MonthlyIncome': [5993],\n",
        "    'TotalWorkingYears': [8],\n",
        "    'OverTime': ['Yes'],  # Categorical\n",
        "    'YearsAtCompany': [6],\n",
        "    'Age': [41],\n",
        "    'JobLevel': [2],\n",
        "    'Department': ['Sales'],  # Categorical\n",
        "    'JobRole': ['Sales Executive'],  # Categorical\n",
        "    'StockOptionLevel': [0],\n",
        "    'EducationField': ['Life Sciences'],  # Categorical\n",
        "    'JobInvolvement': [3]\n",
        "})\n",
        "\n",
        "### **Step 1: Apply Preprocessing**\n",
        "# Ensure categorical values match training format\n",
        "new_data['Department'] = new_data['Department'].replace({\n",
        "    'Research & Development': 'Research_and_Development',\n",
        "    'Sales': 'Sales'\n",
        "})\n",
        "\n",
        "new_data['EducationField'] = new_data['EducationField'].replace({\n",
        "    'Life Sciences': 'Life_Sciences'\n",
        "})\n",
        "\n",
        "# Log transformation\n",
        "new_data['TotalWorkingYears'] = log_transformer_total.transform(new_data[['TotalWorkingYears']])\n",
        "new_data['YearsAtCompany'] = log_transformer_year.transform(new_data[['YearsAtCompany']])\n",
        "\n",
        "# Tenure category transformation\n",
        "new_data['Tenure_Category'] = new_data['YearsAtCompany'].apply(tenure_category)\n",
        "\n",
        "# ✅ FIX: Encode `Tenure_Category` properly\n",
        "if 'Tenure_Category' in label_encoders:\n",
        "    # If label encoding was used\n",
        "    new_data['Tenure_Category'] = label_encoders['Tenure_Category'].transform(new_data['Tenure_Category'])\n",
        "else:\n",
        "    # If one-hot encoding was used\n",
        "    new_data = pd.get_dummies(new_data, columns=['Tenure_Category'], drop_first=True)\n",
        "\n",
        "# Frequency encoding\n",
        "new_data['JobRole_FreqEncoded'] = new_data['JobRole'].map(freq_encoding_map_job).fillna(0)\n",
        "new_data['EducationField_FreqEncoded'] = new_data['EducationField'].map(freq_encoding_map_edu).fillna(0)\n",
        "\n",
        "# Label Encoding (for OverTime)\n",
        "new_data['OverTime'] = label_encoders['OverTime'].transform(new_data['OverTime'])\n",
        "\n",
        "# One-Hot Encoding for Department\n",
        "new_data_ohe = pd.get_dummies(new_data, columns=['Department'], drop_first=True)\n",
        "\n",
        "# Ensure all expected columns are present\n",
        "for col in ohe_columns:\n",
        "    if col not in new_data_ohe:\n",
        "        new_data_ohe[col] = 0  # Add missing columns with value 0\n",
        "\n",
        "# Add missing columns if they were used during training\n",
        "required_features = [\n",
        "    'MonthlyIncome', 'TotalWorkingYears', 'OverTime', 'YearsAtCompany', 'Age',\n",
        "    'JobLevel', 'Department_Research_and_Development', 'Department_Sales',\n",
        "    'Tenure_Category', 'JobRole_FreqEncoded', 'StockOptionLevel',\n",
        "    'EducationField_FreqEncoded', 'JobInvolvement'\n",
        "]\n",
        "\n",
        "for col in required_features:\n",
        "    if col not in new_data_ohe:\n",
        "        new_data_ohe[col] = 0  # Ensure required columns exist\n",
        "\n",
        "# Reorder columns to match training data\n",
        "new_data_ohe = new_data_ohe[required_features]\n",
        "\n",
        "### **Step 2: Make Prediction**\n",
        "prediction = loaded_model.predict(new_data_ohe)\n",
        "\n",
        "if prediction[0] == 1:\n",
        "    print(\"Predicted Output: [1] The employee is likely to leave (Attrition: Yes).\")\n",
        "else:\n",
        "    print(\"Predicted Output: [0] The employee is likely to stay (Attrition: No).\")"
      ]
    },
    {
      "cell_type": "code",
      "source": [
        "import pandas as pd\n",
        "import numpy as np\n",
        "import joblib\n",
        "\n",
        "# Load saved transformations & model\n",
        "log_transformer_total = joblib.load(\"log_transformer_TotalWorkingYears.pkl\")\n",
        "log_transformer_year = joblib.load(\"log_transformer_YearsAtCompany.pkl\")\n",
        "label_encoders = joblib.load(\"label_encoders.pkl\")\n",
        "ohe_columns = joblib.load(\"ohe_columns.pkl\")\n",
        "freq_encoding_map_job = joblib.load(\"jobrole_freq_encoding.pkl\")\n",
        "freq_encoding_map_edu = joblib.load(\"EducationField_freq_encoding.pkl\")\n",
        "\n",
        "# Load trained Random Forest model\n",
        "loaded_model = joblib.load(\"random_forest_best_1st.pkl\")\n",
        "\n",
        "# Function to categorize tenure\n",
        "def tenure_category(years):\n",
        "    if years < 2:\n",
        "        return 'New'\n",
        "    elif years < 5:\n",
        "        return 'Intermediate'\n",
        "    elif years < 10:\n",
        "        return 'Experienced'\n",
        "    else:\n",
        "        return 'Veteran'\n",
        "\n",
        "# ✅ Example new input data\n",
        "new_data = pd.DataFrame({\n",
        "    'MonthlyIncome': [2426],\n",
        "    'TotalWorkingYears': [6],\n",
        "    'OverTime': ['No'],  # Categorical\n",
        "    'YearsAtCompany': [5],\n",
        "    'Age': [35],\n",
        "    'JobLevel': [1],\n",
        "    'Department': ['Research & Development'],  # Categorical\n",
        "    'JobRole': ['Laboratory Technician'],  # Categorical\n",
        "    'StockOptionLevel': [1],\n",
        "    'EducationField': ['Medical'],  # Categorical\n",
        "    'JobInvolvement': [4]\n",
        "})\n",
        "\n",
        "### **Step 1: Apply Preprocessing**\n",
        "# Ensure categorical values match training format\n",
        "new_data['Department'] = new_data['Department'].replace({\n",
        "    'Research & Development': 'Research_and_Development',\n",
        "    'Sales': 'Sales'\n",
        "})\n",
        "\n",
        "new_data['EducationField'] = new_data['EducationField'].replace({\n",
        "    'Life Sciences': 'Life_Sciences'\n",
        "})\n",
        "\n",
        "# Log transformation\n",
        "new_data['TotalWorkingYears'] = log_transformer_total.transform(new_data[['TotalWorkingYears']])\n",
        "new_data['YearsAtCompany'] = log_transformer_year.transform(new_data[['YearsAtCompany']])\n",
        "\n",
        "# Tenure category transformation\n",
        "new_data['Tenure_Category'] = new_data['YearsAtCompany'].apply(tenure_category)\n",
        "\n",
        "# ✅ FIX: Encode `Tenure_Category` properly\n",
        "if 'Tenure_Category' in label_encoders:\n",
        "    # If label encoding was used\n",
        "    new_data['Tenure_Category'] = label_encoders['Tenure_Category'].transform(new_data['Tenure_Category'])\n",
        "else:\n",
        "    # If one-hot encoding was used\n",
        "    new_data = pd.get_dummies(new_data, columns=['Tenure_Category'], drop_first=True)\n",
        "\n",
        "# Frequency encoding\n",
        "new_data['JobRole_FreqEncoded'] = new_data['JobRole'].map(freq_encoding_map_job).fillna(0)\n",
        "new_data['EducationField_FreqEncoded'] = new_data['EducationField'].map(freq_encoding_map_edu).fillna(0)\n",
        "\n",
        "# Label Encoding (for OverTime)\n",
        "new_data['OverTime'] = label_encoders['OverTime'].transform(new_data['OverTime'])\n",
        "\n",
        "# One-Hot Encoding for Department\n",
        "new_data_ohe = pd.get_dummies(new_data, columns=['Department'], drop_first=True)\n",
        "\n",
        "# Ensure all expected columns are present\n",
        "for col in ohe_columns:\n",
        "    if col not in new_data_ohe:\n",
        "        new_data_ohe[col] = 0  # Add missing columns with value 0\n",
        "\n",
        "# Add missing columns if they were used during training\n",
        "required_features = [\n",
        "    'MonthlyIncome', 'TotalWorkingYears', 'OverTime', 'YearsAtCompany', 'Age',\n",
        "    'JobLevel', 'Department_Research_and_Development', 'Department_Sales',\n",
        "    'Tenure_Category', 'JobRole_FreqEncoded', 'StockOptionLevel',\n",
        "    'EducationField_FreqEncoded', 'JobInvolvement'\n",
        "]\n",
        "\n",
        "for col in required_features:\n",
        "    if col not in new_data_ohe:\n",
        "        new_data_ohe[col] = 0  # Ensure required columns exist\n",
        "\n",
        "# Reorder columns to match training data\n",
        "new_data_ohe = new_data_ohe[required_features]\n",
        "\n",
        "### **Step 2: Make Prediction**\n",
        "prediction = loaded_model.predict(new_data_ohe)\n",
        "\n",
        "if prediction[0] == 1:\n",
        "    print(\"Predicted Output: [1] The employee is likely to leave (Attrition: Yes).\")\n",
        "else:\n",
        "    print(\"Predicted Output: [0] The employee is likely to stay (Attrition: No).\")"
      ],
      "metadata": {
        "colab": {
          "base_uri": "https://localhost:8080/"
        },
        "id": "9ZUEdrM7ucGc",
        "outputId": "b8aad72a-9916-461e-809b-c94fa1c67f52"
      },
      "execution_count": 11,
      "outputs": [
        {
          "output_type": "stream",
          "name": "stdout",
          "text": [
            "Predicted Output: [0] The employee is likely to stay (Attrition: No).\n"
          ]
        }
      ]
    },
    {
      "cell_type": "markdown",
      "source": [
        "# **Prediction Successfully Work**"
      ],
      "metadata": {
        "id": "TsE4i-rO68xJ"
      }
    },
    {
      "cell_type": "code",
      "source": [
        "#################################################################################################"
      ],
      "metadata": {
        "id": "5m_fuuoO66XP"
      },
      "execution_count": 12,
      "outputs": []
    },
    {
      "cell_type": "markdown",
      "source": [
        "# **Streamlit Application**"
      ],
      "metadata": {
        "id": "I3ZM1Ln47CeI"
      }
    },
    {
      "cell_type": "code",
      "source": [
        "!pip install -q streamlit\n",
        "!pip install -q localtunnel\n",
        "!pip install -q pyngrok"
      ],
      "metadata": {
        "colab": {
          "base_uri": "https://localhost:8080/"
        },
        "id": "xNxlCc8n7B42",
        "outputId": "491e4cdb-d4f8-40e4-829b-f425415bcab8"
      },
      "execution_count": 13,
      "outputs": [
        {
          "output_type": "stream",
          "name": "stdout",
          "text": [
            "\u001b[2K     \u001b[90m━━━━━━━━━━━━━━━━━━━━━━━━━━━━━━━━━━━━━━━━\u001b[0m \u001b[32m44.3/44.3 kB\u001b[0m \u001b[31m1.9 MB/s\u001b[0m eta \u001b[36m0:00:00\u001b[0m\n",
            "\u001b[2K   \u001b[90m━━━━━━━━━━━━━━━━━━━━━━━━━━━━━━━━━━━━━━━━\u001b[0m \u001b[32m9.8/9.8 MB\u001b[0m \u001b[31m65.4 MB/s\u001b[0m eta \u001b[36m0:00:00\u001b[0m\n",
            "\u001b[2K   \u001b[90m━━━━━━━━━━━━━━━━━━━━━━━━━━━━━━━━━━━━━━━━\u001b[0m \u001b[32m6.9/6.9 MB\u001b[0m \u001b[31m77.2 MB/s\u001b[0m eta \u001b[36m0:00:00\u001b[0m\n",
            "\u001b[2K   \u001b[90m━━━━━━━━━━━━━━━━━━━━━━━━━━━━━━━━━━━━━━━━\u001b[0m \u001b[32m79.1/79.1 kB\u001b[0m \u001b[31m4.8 MB/s\u001b[0m eta \u001b[36m0:00:00\u001b[0m\n",
            "\u001b[?25h\u001b[31mERROR: Could not find a version that satisfies the requirement localtunnel (from versions: none)\u001b[0m\u001b[31m\n",
            "\u001b[0m\u001b[31mERROR: No matching distribution found for localtunnel\u001b[0m\u001b[31m\n",
            "\u001b[0m"
          ]
        }
      ]
    },
    {
      "cell_type": "code",
      "source": [
        "%%writefile app1.py\n",
        "import streamlit as st\n",
        "import pandas as pd\n",
        "import numpy as np\n",
        "import joblib\n",
        "\n",
        "# Load saved transformations & model\n",
        "log_transformer_total = joblib.load(\"log_transformer_TotalWorkingYears.pkl\")\n",
        "log_transformer_year = joblib.load(\"log_transformer_YearsAtCompany.pkl\")\n",
        "label_encoders = joblib.load(\"label_encoders.pkl\")\n",
        "ohe_columns = joblib.load(\"ohe_columns.pkl\")\n",
        "freq_encoding_map_job = joblib.load(\"jobrole_freq_encoding.pkl\")\n",
        "freq_encoding_map_edu = joblib.load(\"EducationField_freq_encoding.pkl\")\n",
        "loaded_model = joblib.load(\"random_forest_best_1st.pkl\")\n",
        "\n",
        "# Function to categorize tenure\n",
        "def tenure_category(years):\n",
        "    if years < 2:\n",
        "        return 'New'\n",
        "    elif years < 5:\n",
        "        return 'Intermediate'\n",
        "    elif years < 10:\n",
        "        return 'Experienced'\n",
        "    else:\n",
        "        return 'Veteran'\n",
        "\n",
        "# Streamlit App UI\n",
        "st.title(\"Employee Attrition Prediction\")\n",
        "st.write(\"Enter employee details to predict if they will leave or stay.\")\n",
        "\n",
        "# User input fields\n",
        "monthly_income = st.number_input(\"Monthly Income\", min_value=1000, max_value=20000, value=6000)\n",
        "total_working_years = st.number_input(\"Total Working Years\", min_value=0, max_value=40, value=10)\n",
        "overtime = st.selectbox(\"OverTime\", ['Yes', 'No'])\n",
        "years_at_company = st.number_input(\"Years At Company\", min_value=0, max_value=40, value=5)\n",
        "age = st.number_input(\"Age\", min_value=18, max_value=65, value=30)\n",
        "job_level = st.selectbox(\"Job Level\", [1, 2, 3, 4, 5])\n",
        "department = st.selectbox(\"Department\", ['Research & Development', 'Sales', 'Human Resources'])\n",
        "job_role = st.selectbox(\"Job Role\", list(freq_encoding_map_job.keys()))\n",
        "stock_option_level = st.selectbox(\"Stock Option Level\", [0, 1, 2, 3])\n",
        "education_field = st.selectbox(\"Education Field\", list(freq_encoding_map_edu.keys()))\n",
        "job_involvement = st.selectbox(\"Job Involvement\", [1, 2, 3, 4])\n",
        "\n",
        "if st.button(\"Predict Attrition\"):\n",
        "    # Create DataFrame from input\n",
        "    new_data = pd.DataFrame({\n",
        "        'MonthlyIncome': [monthly_income],\n",
        "        'TotalWorkingYears': [total_working_years],\n",
        "        'OverTime': [overtime],\n",
        "        'YearsAtCompany': [years_at_company],\n",
        "        'Age': [age],\n",
        "        'JobLevel': [job_level],\n",
        "        'Department': [department],\n",
        "        'JobRole': [job_role],\n",
        "        'StockOptionLevel': [stock_option_level],\n",
        "        'EducationField': [education_field],\n",
        "        'JobInvolvement': [job_involvement]\n",
        "    })\n",
        "\n",
        "    # Data Preprocessing\n",
        "    new_data['Department'] = new_data['Department'].replace({'Research & Development': 'Research_and_Development'})\n",
        "    new_data['TotalWorkingYears'] = log_transformer_total.transform(new_data[['TotalWorkingYears']])\n",
        "    new_data['YearsAtCompany'] = log_transformer_year.transform(new_data[['YearsAtCompany']])\n",
        "    new_data['Tenure_Category'] = new_data['YearsAtCompany'].apply(tenure_category)\n",
        "\n",
        "    if 'Tenure_Category' in label_encoders:\n",
        "        new_data['Tenure_Category'] = label_encoders['Tenure_Category'].transform(new_data['Tenure_Category'])\n",
        "    else:\n",
        "        new_data = pd.get_dummies(new_data, columns=['Tenure_Category'], drop_first=True)\n",
        "\n",
        "    new_data['JobRole_FreqEncoded'] = new_data['JobRole'].map(freq_encoding_map_job).fillna(0)\n",
        "    new_data['EducationField_FreqEncoded'] = new_data['EducationField'].map(freq_encoding_map_edu).fillna(0)\n",
        "    new_data['OverTime'] = label_encoders['OverTime'].transform(new_data['OverTime'])\n",
        "    new_data_ohe = pd.get_dummies(new_data, columns=['Department'], drop_first=True)\n",
        "\n",
        "    for col in ohe_columns:\n",
        "        if col not in new_data_ohe:\n",
        "            new_data_ohe[col] = 0\n",
        "\n",
        "    required_features = ['MonthlyIncome', 'TotalWorkingYears', 'OverTime', 'YearsAtCompany', 'Age',\n",
        "                         'JobLevel', 'Department_Research_and_Development', 'Department_Sales',\n",
        "                         'Tenure_Category', 'JobRole_FreqEncoded', 'StockOptionLevel',\n",
        "                         'EducationField_FreqEncoded', 'JobInvolvement']\n",
        "\n",
        "    for col in required_features:\n",
        "        if col not in new_data_ohe:\n",
        "            new_data_ohe[col] = 0\n",
        "\n",
        "    new_data_ohe = new_data_ohe[required_features]\n",
        "\n",
        "    # Make Prediction\n",
        "    prediction = loaded_model.predict(new_data_ohe)\n",
        "    result = \"The employee is likely to leave (Attrition: Yes).\" if prediction[0] == 1 else \"The employee is likely to stay (Attrition: No).\"\n",
        "\n",
        "    st.subheader(\"Prediction Result\")\n",
        "    st.success(result)\n"
      ],
      "metadata": {
        "colab": {
          "base_uri": "https://localhost:8080/"
        },
        "id": "ds9fD2Pl8l4K",
        "outputId": "318ebda7-b82b-4762-b4e1-f9ab4c9c2104"
      },
      "execution_count": 14,
      "outputs": [
        {
          "output_type": "stream",
          "name": "stdout",
          "text": [
            "Writing app1.py\n"
          ]
        }
      ]
    },
    {
      "cell_type": "code",
      "source": [
        "from pyngrok import ngrok\n",
        "\n",
        "# Replace 'YOUR_AUTHTOKEN' with your actual ngrok authtoken\n",
        "ngrok.set_auth_token(\"2t49imFFYgswbiILhxmRavW6AlI_5a5SfwjpV9f29CtGGGYiu\")\n",
        "\n",
        "# Run the Streamlit app in the background\n",
        "!streamlit run app1.py &>/dev/null&\n",
        "\n",
        "# Create a public URL using ngrok\n",
        "try:\n",
        "    public_url = ngrok.connect(8501)\n",
        "    print(f\"Streamlit app is running at {public_url}\")\n",
        "except Exception as e:\n",
        "    print(f\"Error: {e}\")\n",
        "    print(\"Trying to run with localtunnel\")\n",
        "    !streamlit run app1.py &>/content/logs.txt & npx localtunnel --port 8501"
      ],
      "metadata": {
        "colab": {
          "base_uri": "https://localhost:8080/"
        },
        "id": "Z9LBxzo6Apkt",
        "outputId": "22bdf15b-f0dd-4ada-fb16-0902df80ec4e"
      },
      "execution_count": 15,
      "outputs": [
        {
          "output_type": "stream",
          "name": "stdout",
          "text": [
            "Streamlit app is running at NgrokTunnel: \"https://1b45-34-125-155-82.ngrok-free.app\" -> \"http://localhost:8501\"\n"
          ]
        }
      ]
    },
    {
      "cell_type": "code",
      "source": [],
      "metadata": {
        "id": "5UK_CgKlAwI0"
      },
      "execution_count": null,
      "outputs": []
    }
  ]
}